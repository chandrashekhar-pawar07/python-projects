{
 "cells": [
  {
   "cell_type": "code",
   "execution_count": 29,
   "metadata": {},
   "outputs": [],
   "source": [
    "import cv2\n",
    "import pandas as pd\n",
    "import csv\n",
    "from colorthief import ColorThief\n",
    "import matplotlib.pyplot as plt"
   ]
  },
  {
   "cell_type": "code",
   "execution_count": 42,
   "metadata": {},
   "outputs": [],
   "source": [
    "# Function to load color names and their RGB values from a CSV file\n",
    "def load_colors_from_csv(csv_path):\n",
    "    colors_df = pd.read_csv(csv_path)\n",
    "    print(\"Column names:\", colors_df.columns.tolist())\n",
    "    \n",
    "    colors_df.columns = colors_df.columns.str.strip()\n",
    "    print(\"Cleaned column names:\", colors_df.columns.tolist())\n",
    "    \n",
    "    color_dict = {}\n",
    "    for _, row in colors_df.iterrows():\n",
    "        color_dict[row['name']] = (row['r'], row['g'], row['b'])\n",
    "    return color_dict"
   ]
  },
  {
   "cell_type": "code",
   "execution_count": 34,
   "metadata": {},
   "outputs": [],
   "source": [
    "# Function to find the closest color name\n",
    "def closest_color(requested_color, color_dict):\n",
    "    min_distance = None\n",
    "    closest_name = None\n",
    "    \n",
    "    for name, rgb in color_dict.items():\n",
    "        r_c, g_c, b_c = rgb\n",
    "        \n",
    "        # Calculate Euclidean distance between the two colors\n",
    "        distance = (r_c - requested_color[0]) ** 2 + (g_c - requested_color[1]) ** 2 + (b_c - requested_color[2]) ** 2\n",
    "        if min_distance is None or distance < min_distance:\n",
    "            min_distance = distance\n",
    "            closest_name = name\n",
    "    return closest_name"
   ]
  },
  {
   "cell_type": "code",
   "execution_count": 46,
   "metadata": {},
   "outputs": [
    {
     "name": "stdout",
     "output_type": "stream",
     "text": [
      "Column names: ['name ', 'r', 'g', 'b']\n",
      "Cleaned column names: ['name', 'r', 'g', 'b']\n",
      "Index(['name ', 'r', 'g', 'b'], dtype='object')\n",
      "    name     r    g    b\n",
      "0     red  255    0    0\n",
      "1   green    0  255    0\n",
      "2    blue    0    0  255\n",
      "3  yellow  255  255    0\n",
      "4   black    0    0    0\n"
     ]
    }
   ],
   "source": [
    "# Path to your colors CSV file\n",
    "colors_csv_path = 'colors.csv'  \n",
    "\n",
    "color_names = load_colors_from_csv(colors_csv_path)\n",
    "print(colors_df.columns)\n",
    "print(colors_df.head())"
   ]
  },
  {
   "cell_type": "code",
   "execution_count": 47,
   "metadata": {},
   "outputs": [
    {
     "data": {
      "image/png": "[encoded data removed]",
      "text/plain": [
       "<Figure size 432x288 with 1 Axes>"
      ]
     },
     "metadata": {
      "needs_background": "light"
     },
     "output_type": "display_data"
    }
   ],
   "source": [
    "# Step 1: Load an image using OpenCV\n",
    "image_path = 'color_2.png' \n",
    "image = cv2.imread(image_path)\n",
    "\n",
    "# Step 2: Display the input image using matplotlib\n",
    "plt.imshow(cv2.cvtColor(image, cv2.COLOR_BGR2RGB))\n",
    "plt.axis('off')\n",
    "plt.show()"
   ]
  },
  {
   "cell_type": "code",
   "execution_count": 48,
   "metadata": {},
   "outputs": [],
   "source": [
    "# Step 3: Detect the dominant color using ColorThief\n",
    "color_thief = ColorThief(image_path)\n",
    "dominant_color = color_thief.get_color(quality=1)"
   ]
  },
  {
   "cell_type": "code",
   "execution_count": 49,
   "metadata": {},
   "outputs": [],
   "source": [
    "# Step 4: Find the closest color name\n",
    "\n",
    "color_name = closest_color(dominant_color, color_names)"
   ]
  },
  {
   "cell_type": "code",
   "execution_count": 50,
   "metadata": {},
   "outputs": [
    {
     "name": "stdout",
     "output_type": "stream",
     "text": [
      "Dominant Color (RGB): (236, 44, 4)\n",
      "Closest Color Name: red\n"
     ]
    }
   ],
   "source": [
    "# Step 5: Print the dominant color and its closest name\n",
    "\n",
    "print(f\"Dominant Color (RGB): {dominant_color}\")\n",
    "print(f\"Closest Color Name: {color_name}\")"
   ]
  },
  {
   "cell_type": "code",
   "execution_count": null,
   "metadata": {},
   "outputs": [],
   "source": []
  }
 ],
 "metadata": {
  "kernelspec": {
   "display_name": "Python 3",
   "language": "python",
   "name": "python3"
  },
  "language_info": {
   "codemirror_mode": {
    "name": "ipython",
    "version": 3
   },
   "file_extension": ".py",
   "mimetype": "text/x-python",
   "name": "python",
   "nbconvert_exporter": "python",
   "pygments_lexer": "ipython3",
   "version": "3.8.5"
  }
 },
 "nbformat": 4,
 "nbformat_minor": 4
}
